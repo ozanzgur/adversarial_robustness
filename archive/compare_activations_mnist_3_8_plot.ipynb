{
 "cells": [
  {
   "cell_type": "code",
   "execution_count": null,
   "metadata": {},
   "outputs": [],
   "source": [
    "import numpy as np\n",
    "import matplotlib.pyplot as plt\n",
    "import pandas as pd\n",
    "import seaborn as sns\n",
    "\n",
    "act_30_path = r\"D:\\projects\\adversarial_robustness\\experiments\\exp1_cmpe597_regular_mnist_robust30\\activations.npy\"\n",
    "act_50_path = r\"D:\\projects\\adversarial_robustness\\experiments\\exp1_cmpe597_regular_mnist_robust50\\activations.npy\"\n",
    "act_70_path = r\"D:\\projects\\adversarial_robustness\\experiments\\exp1_cmpe597_regular_mnist_robust70\\activations.npy\"\n",
    "\n",
    "act1 = np.load(act_30_path)\n",
    "act2 = np.load(act_50_path)\n",
    "act3 = np.load(act_70_path)"
   ]
  },
  {
   "cell_type": "code",
   "execution_count": null,
   "metadata": {},
   "outputs": [],
   "source": [
    "def get_slice(act):\n",
    "    slice_size = act.shape[-1] // 5\n",
    "    #act = act[:, :, :, slice_size*2:slice_size*3, slice_size*2:slice_size*3].mean(axis=-1).mean(axis=-1)\n",
    "    act = np.vstack([act[0], act[1]])\n",
    "    act = act.reshape((act.shape[0], -1))\n",
    "    return act\n",
    "    #return act[:, :, :, 6, 6]\n",
    "\n",
    "\"\"\"def plot_5_dims(act):\n",
    "    act_slice = get_slice(act)\n",
    "    \n",
    "    fig, ax = plt.subplots(2, 5, figsize=(22, 10))\n",
    "    ax_i = -1\n",
    "    for i in range(5):\n",
    "        for j in range(i+1, 5):\n",
    "            ax_i += 1\n",
    "            ax_y, ax_x = ax_i // 5, ax_i % 5\n",
    "            ax[ax_y, ax_x].scatter(x=act_slice[0, :, i], y=act_slice[0, :, j], c=\"blue\")\n",
    "            ax[ax_y, ax_x].scatter(x=act_slice[1, :, i], y=act_slice[0, :, j], c=\"red\")\n",
    "            \n",
    "    plt.legend([\"3\", \"8\"])\n",
    "    plt.show()\"\"\""
   ]
  },
  {
   "cell_type": "code",
   "execution_count": null,
   "metadata": {},
   "outputs": [],
   "source": [
    "from sklearn.decomposition import PCA\n",
    "\n",
    "act = act1\n",
    "act_slice = get_slice(act)\n",
    "pca = PCA(n_components=5)\n",
    "pca.fit(act_slice[:500])\n",
    "print(pca.explained_variance_ratio_)\n",
    "\n",
    "pca = PCA(n_components=5)\n",
    "pca.fit(act_slice[500:])\n",
    "print(pca.explained_variance_ratio_)"
   ]
  },
  {
   "cell_type": "code",
   "execution_count": null,
   "metadata": {},
   "outputs": [],
   "source": [
    "from sklearn.decomposition import PCA\n",
    "\n",
    "act = act2\n",
    "act_slice = get_slice(act)\n",
    "pca = PCA(n_components=5)\n",
    "pca.fit(act_slice[:500])\n",
    "print(pca.explained_variance_ratio_)\n",
    "\n",
    "pca = PCA(n_components=5)\n",
    "pca.fit(act_slice[500:])\n",
    "print(pca.explained_variance_ratio_)"
   ]
  },
  {
   "cell_type": "code",
   "execution_count": null,
   "metadata": {},
   "outputs": [],
   "source": [
    "from sklearn.decomposition import PCA\n",
    "\n",
    "act = act3\n",
    "act_slice = get_slice(act)\n",
    "pca = PCA(n_components=5)\n",
    "pca.fit(act_slice[:500])\n",
    "print(pca.explained_variance_ratio_)\n",
    "\n",
    "pca = PCA(n_components=5)\n",
    "pca.fit(act_slice[500:])\n",
    "print(pca.explained_variance_ratio_)"
   ]
  },
  {
   "cell_type": "code",
   "execution_count": null,
   "metadata": {},
   "outputs": [],
   "source": []
  }
 ],
 "metadata": {
  "interpreter": {
   "hash": "d17c003e880bc7a4af63ad5e86ed8af3565b68ebaecf04bbacd7e1d0358b196a"
  },
  "kernelspec": {
   "display_name": "Python 3.9.7 ('env')",
   "language": "python",
   "name": "python3"
  },
  "language_info": {
   "codemirror_mode": {
    "name": "ipython",
    "version": 3
   },
   "file_extension": ".py",
   "mimetype": "text/x-python",
   "name": "python",
   "nbconvert_exporter": "python",
   "pygments_lexer": "ipython3",
   "version": "3.9.7"
  },
  "orig_nbformat": 4
 },
 "nbformat": 4,
 "nbformat_minor": 2
}
