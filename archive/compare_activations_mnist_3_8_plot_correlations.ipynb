{
 "cells": [
  {
   "cell_type": "code",
   "execution_count": null,
   "metadata": {},
   "outputs": [],
   "source": [
    "import numpy as np\n",
    "import matplotlib.pyplot as plt\n",
    "import pandas as pd\n",
    "import seaborn as sns\n",
    "\n",
    "act_30_path = r\"D:\\projects\\adversarial_robustness\\experiments\\exp1_cmpe597_regular_mnist_robust30\\activations.npy\"\n",
    "act_50_path = r\"D:\\projects\\adversarial_robustness\\experiments\\exp1_cmpe597_regular_mnist_robust50\\activations.npy\"\n",
    "act_70_path = r\"D:\\projects\\adversarial_robustness\\experiments\\exp1_cmpe597_regular_mnist_robust70\\activations.npy\"\n",
    "\n",
    "act1 = np.load(act_30_path)\n",
    "act2 = np.load(act_50_path)\n",
    "act3 = np.load(act_70_path)"
   ]
  },
  {
   "cell_type": "code",
   "execution_count": null,
   "metadata": {},
   "outputs": [],
   "source": [
    "def get_slice(act):\n",
    "    slice_size = act.shape[-1] // 5\n",
    "    #act = act[:, :, :, slice_size*2:slice_size*3, slice_size*2:slice_size*3].mean(axis=-1).mean(axis=-1)\n",
    "    act = np.vstack([act[0], act[1]])\n",
    "    act = act.reshape((act.shape[0], -1))\n",
    "    return act\n",
    "    #return act[:, :, :, 6, 6]\n",
    "\n",
    "def plot_5_dims(act):\n",
    "    slice_size = act.shape[-1] // 3\n",
    "    #act_slice = act[:, :, :, slice_size:slice_size*2, slice_size:slice_size*2].mean(axis=-1).mean(axis=-1)\n",
    "    act_slice = act[:, :, :, 8, 5]\n",
    "    \n",
    "    fig, ax = plt.subplots(2, 5, figsize=(22, 10))\n",
    "    ax_i = -1\n",
    "    for i in range(5):\n",
    "        for j in range(i+1, 5):\n",
    "            ax_i += 1\n",
    "            ax_y, ax_x = ax_i // 5, ax_i % 5\n",
    "            ax[ax_y, ax_x].scatter(x=act_slice[1, :, i], y=act_slice[0, :, j], c=\"red\")\n",
    "            ax[ax_y, ax_x].scatter(x=act_slice[0, :, i], y=act_slice[0, :, j], c=\"blue\")\n",
    "            ax[ax_y, ax_x].set_title(f\"Features {i}-{j}\")\n",
    "            ax[ax_y, ax_x].set_xlabel(f\"Feature {i}\")\n",
    "            ax[ax_y, ax_x].set_ylabel(f\"Feature {j}\")\n",
    "            \n",
    "    plt.legend([\"3\", \"8\"])\n",
    "    plt.show()"
   ]
  },
  {
   "cell_type": "code",
   "execution_count": null,
   "metadata": {},
   "outputs": [],
   "source": [
    "plot_5_dims(act1)"
   ]
  },
  {
   "cell_type": "code",
   "execution_count": null,
   "metadata": {},
   "outputs": [],
   "source": [
    "plot_5_dims(act2)"
   ]
  },
  {
   "cell_type": "code",
   "execution_count": null,
   "metadata": {},
   "outputs": [],
   "source": [
    "plot_5_dims(act3)"
   ]
  },
  {
   "cell_type": "code",
   "execution_count": null,
   "metadata": {},
   "outputs": [],
   "source": [
    "def remove_diag(A):\n",
    "    return A[~np.eye(A.shape[0],dtype=bool)].reshape(A.shape[0],-1)\n",
    "\n",
    "def array_cos_similarity(corr1, corr2):\n",
    "    return np.sum(corr1 * corr2) / (np.sqrt(np.sum(np.square(corr1))) * np.sqrt(np.sum(np.square(corr2))))\n",
    "\n",
    "def all_features_corr_cos_similarity(act):\n",
    "    sim_output = np.zeros(act.shape[-2:])\n",
    "    for i1 in range(act.shape[-2]):\n",
    "        for i2 in range(act.shape[-1]):\n",
    "            act_slice = act[:, :, :, i1, i2]\n",
    "            corr1 = np.corrcoef(act_slice[0].T)\n",
    "            corr2 = np.corrcoef(act_slice[1].T)\n",
    "            corr1 = np.nan_to_num(corr1)\n",
    "            corr2 = np.nan_to_num(corr2)\n",
    "            np.fill_diagonal(corr1, 0)\n",
    "            np.fill_diagonal(corr2, 0)\n",
    "            sim_output[i1, i2] = array_cos_similarity(corr1, corr2)\n",
    "            \n",
    "    return sim_output\n",
    "\n",
    "def plot_feature_corrs(act):\n",
    "    slice_size = act.shape[-1] // 5\n",
    "    act_slice = act[:, :, :, slice_size*3:slice_size*4, slice_size*3:slice_size*4].mean(axis=-1).mean(axis=-1)\n",
    "    corr1 = np.corrcoef(act_slice[0].T)\n",
    "    corr2 = np.corrcoef(act_slice[1].T)\n",
    "    np.fill_diagonal(corr1, 0)\n",
    "    np.fill_diagonal(corr2, 0)\n",
    "    print(np.max(corr1))\n",
    "    print(np.max(corr2))\n",
    "    print(np.mean(corr1 - corr2))\n",
    "    print(f\"cosine similarity: {array_cos_similarity(corr1, corr2)}\")\n",
    "\n",
    "    fig, ax = plt.subplots(1, 4, figsize=(25, 5))\n",
    "    sns.heatmap(corr1, vmin=-0.5, vmax=0.5, ax=ax[0], cmap=\"coolwarm\")\n",
    "    sns.heatmap(corr2, vmin=-0.5, vmax=0.5, ax=ax[1], cmap=\"coolwarm\")\n",
    "    sns.histplot(remove_diag(corr1).flatten(), ax=ax[2])\n",
    "    sns.histplot(remove_diag(corr2).flatten(), ax=ax[3])\n",
    "    ax[2].set_xlim([-0.6, 0.6])\n",
    "    ax[3].set_xlim([-0.6, 0.6])"
   ]
  },
  {
   "cell_type": "code",
   "execution_count": null,
   "metadata": {},
   "outputs": [],
   "source": [
    "print(\"Activations 1\")\n",
    "plot_feature_corrs(act1)\n",
    "print(\"Activations 2\")\n",
    "plot_feature_corrs(act2)\n",
    "print(\"Activations 3\")\n",
    "plot_feature_corrs(act3)"
   ]
  },
  {
   "cell_type": "code",
   "execution_count": null,
   "metadata": {},
   "outputs": [],
   "source": [
    "act = act1\n",
    "corrs1 = all_features_corr_cos_similarity(act)\n",
    "sns.heatmap(corrs1, vmin=0.0, vmax=1.0)\n",
    "plt.figure()\n",
    "sns.histplot(np.abs(corrs1).flatten())\n",
    "np.nansum(corrs1)"
   ]
  },
  {
   "cell_type": "code",
   "execution_count": null,
   "metadata": {},
   "outputs": [],
   "source": [
    "act = act2\n",
    "corrs1 = all_features_corr_cos_similarity(act)\n",
    "sns.heatmap(corrs1, vmin=0.0, vmax=1.0)\n",
    "plt.figure()\n",
    "sns.histplot(np.abs(corrs1).flatten())\n",
    "np.nansum(corrs1)"
   ]
  },
  {
   "cell_type": "code",
   "execution_count": null,
   "metadata": {},
   "outputs": [],
   "source": [
    "act = act3\n",
    "corrs1 = all_features_corr_cos_similarity(act)\n",
    "sns.heatmap(corrs1, vmin=0.0, vmax=1.0)\n",
    "plt.figure()\n",
    "sns.histplot(np.abs(corrs1).flatten())\n",
    "np.nansum(corrs1)"
   ]
  },
  {
   "cell_type": "code",
   "execution_count": null,
   "metadata": {},
   "outputs": [],
   "source": []
  }
 ],
 "metadata": {
  "interpreter": {
   "hash": "d17c003e880bc7a4af63ad5e86ed8af3565b68ebaecf04bbacd7e1d0358b196a"
  },
  "kernelspec": {
   "display_name": "Python 3.9.7 ('env')",
   "language": "python",
   "name": "python3"
  },
  "language_info": {
   "codemirror_mode": {
    "name": "ipython",
    "version": 3
   },
   "file_extension": ".py",
   "mimetype": "text/x-python",
   "name": "python",
   "nbconvert_exporter": "python",
   "pygments_lexer": "ipython3",
   "version": "3.9.7"
  },
  "orig_nbformat": 4
 },
 "nbformat": 4,
 "nbformat_minor": 2
}
