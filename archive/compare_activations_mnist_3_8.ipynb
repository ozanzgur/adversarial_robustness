{
 "cells": [
  {
   "cell_type": "code",
   "execution_count": null,
   "metadata": {},
   "outputs": [],
   "source": [
    "import numpy as np\n",
    "import matplotlib.pyplot as plt\n",
    "import pandas as pd\n",
    "import seaborn as sns\n",
    "\n",
    "act_30_path = r\"D:\\projects\\adversarial_robustness\\experiments\\exp1_cmpe597_regular_mnist_robust30\\activations.npy\"\n",
    "act_50_path = r\"D:\\projects\\adversarial_robustness\\experiments\\exp1_cmpe597_regular_mnist_robust50\\activations.npy\"\n",
    "act_70_path = r\"D:\\projects\\adversarial_robustness\\experiments\\exp1_cmpe597_regular_mnist_robust70\\activations.npy\"\n",
    "\n",
    "act1 = np.load(act_30_path)\n",
    "act2 = np.load(act_50_path)\n",
    "act3 = np.load(act_70_path)"
   ]
  },
  {
   "cell_type": "markdown",
   "metadata": {},
   "source": [
    "#### Increases With Robustness"
   ]
  },
  {
   "cell_type": "code",
   "execution_count": null,
   "metadata": {},
   "outputs": [],
   "source": [
    "def mean_class_difference(act):\n",
    "    return np.square((act[0].mean(axis=1) - act[1].mean(axis=1))).mean()\n",
    "\n",
    "def class_stds(act): # Slightly dependent\n",
    "    return act[0].flatten().std(), act[1].flatten().std()\n",
    "\n",
    "def mean_class_difference_slice(act): # Smaller patches may not exhibit the same behavior\n",
    "    act_slice = act[:, :, :, 4:8, 4:8].mean(axis=-1).mean(axis=-1)\n",
    "    return mean_class_difference(act_slice)"
   ]
  },
  {
   "cell_type": "markdown",
   "metadata": {},
   "source": [
    "#### Does Not Increase With Robustness"
   ]
  },
  {
   "cell_type": "code",
   "execution_count": null,
   "metadata": {},
   "outputs": [],
   "source": [
    "def class_sizes(act):\n",
    "    return act[0].mean(), act[1].mean()"
   ]
  },
  {
   "cell_type": "code",
   "execution_count": null,
   "metadata": {},
   "outputs": [],
   "source": [
    "act1.shape"
   ]
  },
  {
   "cell_type": "code",
   "execution_count": null,
   "metadata": {},
   "outputs": [],
   "source": [
    "act1_slice = act1[:, :, :, 4:8, 4:8].mean(axis=-1).mean(axis=-1)\n",
    "act2_slice = act2[:, :, :, 4:8, 4:8].mean(axis=-1).mean(axis=-1)\n",
    "act3_slice = act3[:, :, :, 4:8, 4:8].mean(axis=-1).mean(axis=-1)"
   ]
  },
  {
   "cell_type": "code",
   "execution_count": null,
   "metadata": {},
   "outputs": [],
   "source": [
    "act2_slice.shape"
   ]
  },
  {
   "cell_type": "code",
   "execution_count": null,
   "metadata": {},
   "outputs": [],
   "source": [
    "def mean_class_examples(act):\n",
    "    act_slice = act[:, :, :, 4:8, 4:8].mean(axis=-1).mean(axis=-1)\n",
    "    return act_slice[0].mean(axis=0), act_slice[1].mean(axis=0)\n",
    "\n",
    "def display_class_examples_patch(act):\n",
    "    act_slice = act[:, :, :, 4:8, 4:8].mean(axis=-1).mean(axis=-1)\n",
    "    \n",
    "    plt.figure(figsize=(8, 8))\n",
    "    dfs = []\n",
    "    for class_i in [0, 1]:\n",
    "        df = pd.DataFrame(act_slice[class_i])\n",
    "        #df[\"class\"] = class_i\n",
    "        df.plot(kind='box')\n",
    "        \n",
    "    #df = pd.concat(dfs, ignore_index=True)\n",
    "    plt.show()\n",
    "        "
   ]
  },
  {
   "cell_type": "code",
   "execution_count": null,
   "metadata": {},
   "outputs": [],
   "source": [
    "display_class_examples_patch(act1)"
   ]
  },
  {
   "cell_type": "code",
   "execution_count": null,
   "metadata": {},
   "outputs": [],
   "source": [
    "display_class_examples_patch(act2)"
   ]
  },
  {
   "cell_type": "code",
   "execution_count": null,
   "metadata": {},
   "outputs": [],
   "source": [
    "display_class_examples_patch(act3)"
   ]
  },
  {
   "cell_type": "code",
   "execution_count": null,
   "metadata": {},
   "outputs": [],
   "source": [
    "def get_slice(act):\n",
    "    return act[:, :, :, 4:8, 4:8].mean(axis=-1).mean(axis=-1)\n",
    "\n",
    "act1_slice = get_slice(act1)\n",
    "act2_slice = get_slice(act2)\n",
    "act3_slice = get_slice(act3)"
   ]
  },
  {
   "cell_type": "code",
   "execution_count": null,
   "metadata": {},
   "outputs": [],
   "source": [
    "act1_slice.shape"
   ]
  },
  {
   "cell_type": "code",
   "execution_count": null,
   "metadata": {},
   "outputs": [],
   "source": [
    "def get_min_dist_other_class_example(act_slice):\n",
    "\n",
    "    min_dists0 = []\n",
    "    for i_example in range(act_slice.shape[1]):\n",
    "        min_dists0.append(np.min(np.square(act_slice[0, i_example].reshape(1, -1) - act_slice[1]).mean(axis=1)))\n",
    "        \n",
    "    min_dists1 = []\n",
    "    for i_example in range(act_slice.shape[1]):\n",
    "        min_dists1.append(np.min(np.square(act_slice[1, i_example].reshape(1, -1) - act_slice[0]).mean(axis=1)))\n",
    "    \n",
    "    return min_dists0, min_dists1"
   ]
  },
  {
   "cell_type": "code",
   "execution_count": null,
   "metadata": {},
   "outputs": [],
   "source": [
    "d0, d1 = get_min_dist_other_class_example(act1_slice)\n",
    "print(np.median(d0))\n",
    "print(np.median(d1))\n",
    "\n",
    "sns.histplot(d0, binwidth=0.005)\n",
    "plt.xlim([0, 0.15])\n",
    "plt.ylim([0, 130])\n",
    "plt.figure()\n",
    "sns.histplot(d1, binwidth=0.005)\n",
    "plt.xlim([0, 0.15])\n",
    "plt.ylim([0, 130])"
   ]
  },
  {
   "cell_type": "code",
   "execution_count": null,
   "metadata": {},
   "outputs": [],
   "source": [
    "d0, d1 = get_min_dist_other_class_example(act2_slice)\n",
    "print(np.median(d0))\n",
    "print(np.median(d1))\n",
    "\n",
    "sns.histplot(d0, binwidth=0.005)\n",
    "plt.xlim([0, 0.15])\n",
    "plt.ylim([0, 130])\n",
    "plt.figure()\n",
    "sns.histplot(d1, binwidth=0.005)\n",
    "plt.xlim([0, 0.15])\n",
    "plt.ylim([0, 130])"
   ]
  },
  {
   "cell_type": "code",
   "execution_count": null,
   "metadata": {},
   "outputs": [],
   "source": [
    "d0, d1 = get_min_dist_other_class_example(act3_slice)\n",
    "print(np.median(d0))\n",
    "print(np.median(d1))\n",
    "\n",
    "sns.histplot(d0, binwidth=0.005)\n",
    "plt.xlim([0, 0.15])\n",
    "plt.ylim([0, 130])\n",
    "plt.figure()\n",
    "sns.histplot(d1, binwidth=0.005)\n",
    "plt.xlim([0, 0.15])\n",
    "plt.ylim([0, 130])"
   ]
  },
  {
   "cell_type": "code",
   "execution_count": null,
   "metadata": {},
   "outputs": [],
   "source": []
  }
 ],
 "metadata": {
  "interpreter": {
   "hash": "8d13dd16ed1d9d0f9b50066a4c58f58f02ea0db6cf3822c9f71a8c066ab69665"
  },
  "kernelspec": {
   "display_name": "Python 3.9.7 ('env')",
   "language": "python",
   "name": "python3"
  },
  "language_info": {
   "codemirror_mode": {
    "name": "ipython",
    "version": 3
   },
   "file_extension": ".py",
   "mimetype": "text/x-python",
   "name": "python",
   "nbconvert_exporter": "python",
   "pygments_lexer": "ipython3",
   "version": "3.9.7"
  },
  "orig_nbformat": 4
 },
 "nbformat": 4,
 "nbformat_minor": 2
}
