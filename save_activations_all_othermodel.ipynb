{
 "cells": [
  {
   "cell_type": "markdown",
   "metadata": {},
   "source": [
    "### Save activations from all classes"
   ]
  },
  {
   "cell_type": "code",
   "execution_count": null,
   "metadata": {},
   "outputs": [],
   "source": [
    "from tools import utils, config, trainer, parts\n",
    "import torch\n",
    "import numpy as np\n",
    "import matplotlib.pyplot as plt\n",
    "from torch.nn import functional as F\n",
    "from tools import utils\n",
    "\n",
    "from data.cifar10 import get_test_loader\n",
    "\n",
    "plt.style.use('fast')\n",
    "PLOT_DIR = 'plots'\n",
    "\n",
    "from robustbench.utils import load_model\n",
    "from robustbench.data import load_cifar10\n",
    "\n",
    "model_name = \"Pang2022Robustness_WRN28_10\"\n",
    "\n",
    "test_loader = get_test_loader(batch_size=16)\n",
    "test_dataset = test_loader.dataset\n",
    "model = load_model(model_name=model_name, # Standard, Hendrycks2019Using, Pang2022Robustness_WRN28_10, Gowal2021Improving_28_10_ddpm_100m\n",
    "                        dataset='cifar10',\n",
    "                        threat_model='Linf').cuda()\n",
    "\n",
    "\n",
    "part_manager = parts.PartManager(model)\n",
    "part_manager.enable_all()\n",
    "\n",
    "model.eval();\n",
    "\n",
    "classes = list(range(10))\n",
    "n_classes = len(classes)"
   ]
  },
  {
   "cell_type": "markdown",
   "metadata": {},
   "source": [
    "### Get samples from each class\n",
    "- Pick example indices for which the model gave a correct/wrong prediction for adversarial example"
   ]
  },
  {
   "cell_type": "code",
   "execution_count": null,
   "metadata": {},
   "outputs": [],
   "source": [
    "def select_examples():\n",
    "    class_size = 100\n",
    "    classes_to_accumulate = [c for c in classes]\n",
    "    examples = {i: [] for i in classes}\n",
    "    predictions = {c: [] for c in classes}\n",
    "\n",
    "    i = 0\n",
    "    while i < len(test_dataset):\n",
    "        x, y = test_dataset[i]\n",
    "        \n",
    "        # Skip if we don't need anymore examples in this class\n",
    "        if not y in classes_to_accumulate:\n",
    "            i+=1\n",
    "            continue\n",
    "        \n",
    "        # Initial prediction must be correct\n",
    "        y_pred = model(x.unsqueeze(0).cuda())\n",
    "        y_pred = np.argmax(y_pred.cpu().detach().numpy())\n",
    "        \n",
    "        # Use examples where prediction is in specisified classes\n",
    "        examples[y].append(i)\n",
    "        predictions[y].append(y_pred)\n",
    "\n",
    "        # Check if we need more examples for this class\n",
    "        if len(examples[y]) == class_size:\n",
    "            classes_to_accumulate.remove(y)\n",
    "            if len(classes_to_accumulate) == 0:\n",
    "                break\n",
    "        i+=1\n",
    "    return examples\n",
    "\n",
    "examples = select_examples()"
   ]
  },
  {
   "cell_type": "code",
   "execution_count": null,
   "metadata": {},
   "outputs": [],
   "source": [
    "print(\"Number of examples per class:\")\n",
    "[f'{k}:{len(v)}' for k, v in examples.items()]"
   ]
  },
  {
   "cell_type": "code",
   "execution_count": null,
   "metadata": {},
   "outputs": [],
   "source": [
    "\"\"\"# Save example idx\n",
    "import pickle\n",
    "\n",
    "with open(\"experiments/exp16_cifar10_resnet18/example_idx_allclasses.pickle\", \"wb\") as f:\n",
    "    pickle.dump(examples, f, protocol=pickle.HIGHEST_PROTOCOL)\"\"\""
   ]
  },
  {
   "cell_type": "code",
   "execution_count": null,
   "metadata": {},
   "outputs": [],
   "source": [
    "# Load example idx\n",
    "import pickle\n",
    "\n",
    "with open(\"experiments/exp16_cifar10_resnet18/example_idx_allclasses.pickle\", \"rb\") as f:\n",
    "    examples = pickle.load(f)"
   ]
  },
  {
   "cell_type": "markdown",
   "metadata": {},
   "source": [
    "### Get Activations for Adversarial and Regular Examples"
   ]
  },
  {
   "cell_type": "code",
   "execution_count": null,
   "metadata": {},
   "outputs": [],
   "source": [
    "def get_activations(examples, part_i):\n",
    "    part_output_list_adv = [[] for _ in range(n_classes)]\n",
    "    part_output_list = [[] for _ in range(n_classes)]\n",
    "\n",
    "    for class_i, class_examples in examples.items():\n",
    "        class_order = classes.index(class_i)\n",
    "        for example_i in class_examples:\n",
    "            x, y = test_dataset[example_i]\n",
    "            x = x.unsqueeze(0).cuda()\n",
    "            _ = model(x)\n",
    "            \n",
    "            part_output = getattr(part_manager.parts[part_i].get_loss_end_layer(), trainer.SAVED_OUTPUT_NAME)\n",
    "            part_output = torch.squeeze(part_output).cpu().detach().numpy()\n",
    "            part_output_list[class_order].append(part_output)\n",
    "        \n",
    "    activations = np.array(part_output_list)\n",
    "    #activations_adv = np.array(part_output_list_adv)\n",
    "    return activations#, activations_adv"
   ]
  },
  {
   "cell_type": "code",
   "execution_count": null,
   "metadata": {},
   "outputs": [],
   "source": [
    "from tqdm import trange\n",
    "import os\n",
    "\n",
    "if not os.path.exists(f\"experiments/exp16_cifar10_{model_name}\"):\n",
    "    os.mkdir(f\"experiments/exp16_cifar10_{model_name}\")\n",
    "\n",
    "\n",
    "for part_i in [0, 5, 10, 15, 20, 25]:\n",
    "\n",
    "    # Get activations for correctly predicted examples\n",
    "    activations = get_activations(examples, part_i)\n",
    "\n",
    "    # i_class, i_example, i_kernel, h, w\n",
    "    print(f\"act shape: {activations.shape}\")\n",
    "\n",
    "    with open(f\"experiments/exp16_cifar10_{model_name}/activations_allclasses_part{part_i}.npy\", \"wb\") as f:\n",
    "        np.save(f, activations)"
   ]
  },
  {
   "cell_type": "code",
   "execution_count": null,
   "metadata": {},
   "outputs": [],
   "source": []
  }
 ],
 "metadata": {
  "kernelspec": {
   "display_name": "env",
   "language": "python",
   "name": "python3"
  },
  "language_info": {
   "codemirror_mode": {
    "name": "ipython",
    "version": 3
   },
   "file_extension": ".py",
   "mimetype": "text/x-python",
   "name": "python",
   "nbconvert_exporter": "python",
   "pygments_lexer": "ipython3",
   "version": "3.9.15"
  },
  "orig_nbformat": 4,
  "vscode": {
   "interpreter": {
    "hash": "049272640335428dbc2271b454b006e6b4f539a98152267fa5856f3fbd5ddef1"
   }
  }
 },
 "nbformat": 4,
 "nbformat_minor": 2
}
